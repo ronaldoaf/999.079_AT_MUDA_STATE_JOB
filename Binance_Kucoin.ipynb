{
  "nbformat": 4,
  "nbformat_minor": 0,
  "metadata": {
    "colab": {
      "name": "Binance-BT.ipynb",
      "provenance": [],
      "private_outputs": true,
      "authorship_tag": "ABX9TyNLJWztSK5IWGwLEkLaqdGF",
      "include_colab_link": true
    },
    "kernelspec": {
      "name": "python3",
      "display_name": "Python 3"
    }
  },
  "cells": [
    {
      "cell_type": "markdown",
      "metadata": {
        "id": "view-in-github",
        "colab_type": "text"
      },
      "source": [
        "<a href=\"https://colab.research.google.com/github/ronaldoaf/999.079_AT_MUDA_STATE_JOB/blob/master/Binance_Kucoin.ipynb\" target=\"_parent\"><img src=\"https://colab.research.google.com/assets/colab-badge.svg\" alt=\"Open In Colab\"/></a>"
      ]
    },
    {
      "cell_type": "markdown",
      "metadata": {
        "id": "QS0E5Wq5hRAZ"
      },
      "source": [
        "# Importação das biblietocas"
      ]
    },
    {
      "cell_type": "code",
      "metadata": {
        "id": "FADzrXdTfFYq"
      },
      "source": [
        "!pip install bt\n",
        "!pip install python-binance\n",
        "\n",
        "import warnings\n",
        "import bt\n",
        "from bt.core import * \n",
        "from binance.client import Client as B\n",
        "from sklearn.linear_model import LinearRegression\n",
        "\n",
        "\n",
        "warnings.filterwarnings(\"ignore\")\n",
        "%matplotlib inline\n",
        "\n"
      ],
      "execution_count": null,
      "outputs": []
    },
    {
      "cell_type": "markdown",
      "metadata": {
        "id": "HJFosjrNkiV1"
      },
      "source": [
        "# Download de dados da Binance\n",
        " "
      ]
    },
    {
      "cell_type": "markdown",
      "metadata": {
        "id": "318TafnAIA_3"
      },
      "source": [
        "Série com os código de todos os pares de moedas cotados em **USDT** da Binance ( inclusive os deslistados ) "
      ]
    },
    {
      "cell_type": "code",
      "metadata": {
        "id": "KN8SZ2GnkgGx"
      },
      "source": [
        "kucoin_futures=[\"LUNCUSDT\",\"TLMUSDT\",\"EOSUSDT\",\"FILUSDT\",\"IOSTUSDT\",\"ALGOUSDT\",\"CHZUSDT\",\"ENJUSDT\",\"MANAUSDT\",\"DGBUSDT\",\"ICPUSDT\",\"OMGUSDT\",\"IMXUSDT\",\"CELOUSDT\",\"JASMYUSDT\",\"LOOKSUSDT\",\"KDAUSDT\",\"GALUSDT\",\"LUNAUSDT\",\"NEOUSDT\",\"ZECUSDT\",\"LINAUSDT\",\"VRAUSDT\",\"OPUSDT\",\"UNFIUSDT\",\"IOTXUSDT\",\"XEMUSDT\",\"THETAUSDT\",\"ONEUSDT\",\"CROUSDT\",\"NFTUSDT\",\"UNIUSDT\",\"KNCUSDT\",\"LITUSDT\",\"DASHUSDT\",\"HBARUSDT\",\"CELRUSDT\",\"DOGEUSDT\",\"SUSHIUSDT\",\"VETUSDT\",\"AAVEUSDT\",\"XMRUSDT\",\"ENSUSDT\",\"RUNEUSDT\",\"COMPUSDT\",\"CHRUSDT\",\"LINKUSDT\",\"ZILUSDT\",\"EGLDUSDT\",\"LTCUSDT\",\"ATOMUSDT\",\"1INCHUSDT\",\"XRPUSDT\",\"MKRUSDT\",\"LRCUSDT\",\"ARPAUSDT\",\"AUDIOUSDT\",\"FTMUSDT\",\"ETHUSDT\",\"ETCUSDT\",\"AVAXUSDT\",\"ONTUSDT\",\"BTCUSDT\",\"XLMUSDT\",\"ALICEUSDT\",\"BATUSDT\",\"API3USDT\",\"APEUSDT\",\"PEOPLEUSDT\",\"GRTUSDT\",\"BCHUSDT\",\"DUSKUSDT\",\"ADAUSDT\",\"SHIBUSDT\",\"KAVAUSDT\",\"CTSIUSDT\",\"CRVUSDT\",\"ROSEUSDT\",\"DOTUSDT\",\"SXPUSDT\",\"BALUSDT\",\"SANDUSDT\",\"BANDUSDT\",\"MATICUSDT\",\"BNBUSDT\",\"AXSUSDT\",\"SOLUSDT\",\"NYMUSDT\",\"NEARUSDT\",\"FLOWUSDT\",\"YFIUSDT\",\"XTZUSDT\",\"RNDRUSDT\",\"SRMUSDT\",\"KSMUSDT\",\"C98USDT\",\"TRXUSDT\",\"DYDXUSDT\",\"WAVESUSDT\",\"GMTUSDT\",\"YGGUSDT\",\"SLPUSDT\",\"AGLDUSDT\",\"SNXUSDT\",\"XCNUSDT\",\"MIRUSDT\",\"OCEANUSDT\",\"SOSUSDT\"]\n",
        "pares_USDT=pd.Series([s['symbol'] for s in B().get_exchange_info()['symbols'] \n",
        "                      if s['symbol'] in kucoin_futures] )\n",
        "                      #if s['quoteAsset']=='USDT' and 'SPOT' in s['permissions']])\n",
        "pares_USDT"
      ],
      "execution_count": null,
      "outputs": []
    },
    {
      "cell_type": "markdown",
      "metadata": {
        "id": "kgj2q8wzE2KV"
      },
      "source": [
        "\n",
        "---\n",
        "\n",
        "Para cada par baixamos todo histórico diário a partir de 2018-01-01.\n",
        "São gerados 2 dataframes:\n",
        "  \n",
        "\n",
        "*   **precos** : preços de fechamento\n",
        "*   **volumes** : volumes em USDT\n",
        "\n"
      ]
    },
    {
      "cell_type": "code",
      "metadata": {
        "id": "MVr_tGulnYiM"
      },
      "source": [
        "dfs_preco,dfs_volume=[],[]\n",
        "\n",
        "for par in pares_USDT:\n",
        "  df=pd.DataFrame( B().get_historical_klines(par, '30m','2022-05-01') ).astype('float64')\n",
        "  df['Time'] = pd.to_datetime(df[0], unit='ms')\n",
        "  df=df.set_index('Time')\n",
        "\n",
        "  dfs_preco+=[df[[4]].rename(columns={4:par})]\n",
        "  dfs_volume+=[df[[7]].rename(columns={7:par})]\n",
        "\n",
        "precos=pd.concat(dfs_preco,axis=1)\n",
        "volumes=pd.concat(dfs_volume,axis=1)\n",
        "\n",
        "#ativo artficial de preco=1 e volume muito alto \n",
        "#precos['usd'],volumes['usd']=1.0, 1e12\n",
        "\n",
        "precos"
      ],
      "execution_count": null,
      "outputs": []
    },
    {
      "cell_type": "code",
      "source": [
        "precos.to_csv('precos.csv')"
      ],
      "metadata": {
        "id": "YOXKOIc5nnpu"
      },
      "execution_count": null,
      "outputs": []
    },
    {
      "cell_type": "markdown",
      "metadata": {
        "id": "JE1aKDzFHMMy"
      },
      "source": [
        "# Backtest "
      ]
    },
    {
      "cell_type": "code",
      "metadata": {
        "id": "9jNeDIo2Ih9t"
      },
      "source": [
        "intevalo_longo=pd.DateOffset(days=15)\n",
        "intervalo_curto=pd.DateOffset(days=5)\n",
        "intervalo=pd.DateOffset(days=30)\n",
        "#Define as datas limites para a negociação de cada ativo\n",
        "#Se a linha seguinte for NA indica o ativo foi deslistado\n",
        "limites=pd.notna(precos.shift(-7)) \n",
        "\n",
        "#Log do Volume dos ultimos n_dias dias maior que percent percentil,  (maior que a mediana)\n",
        "def vol_maior_que_percent(n_dias,percent):\n",
        "  return volumes.rolling(n_dias).sum().apply(lambda x: x>np.percentile(x.fillna(0),percent), axis=1)\n",
        "\n",
        "#Volume médio dos ultimos N1 dias é maior que a dos últimos N2 dias\n",
        "def vol_medio_maior(N1,N2):\n",
        "  return volumes.rolling(N1).sum()/N1> volumes.rolling(N2).sum()/N2\n",
        "\n",
        "def E(condicoes):\n",
        "  condicao=True\n",
        "  for cond in condicoes: \n",
        "    condicao=np.logical_and(condicao,cond)\n",
        "  return condicao\n",
        "\n",
        "\n",
        "momentum=precos.pct_change().rolling(21).sum()+precos.pct_change().rolling(7).sum()\n",
        "\n",
        "\n",
        "#Une todas as codições\n",
        "condicao = E([\n",
        "              limites, \n",
        "              sma7<sma21\n",
        "              ])\n",
        "\n",
        "\n",
        "\n",
        "\n",
        "\n",
        "s1 = bt.Strategy('s1', [ bt.algos.RunWeekly(),\n",
        "                        #bt.algos.PrintDate(),\n",
        "                        bt.algos.SelectHasData(intevalo),\n",
        "                        bt.algos.SelectWhere(condicao ),\n",
        "                        bt.algos.WeighEqually(),\n",
        "                        bt.algos.Rebalance()])\n",
        "\n",
        "t1 = bt.Backtest(s1, precos,integer_positions=False)\n",
        "\n",
        "res = bt.run(t1)\n",
        "\n",
        "#res.display()\n",
        "\n",
        "res.plot()"
      ],
      "execution_count": null,
      "outputs": []
    },
    {
      "cell_type": "code",
      "metadata": {
        "id": "kQNzvxFWJUYd"
      },
      "source": [
        "data=pd.DataFrame()\n",
        "\n",
        "n=1\n",
        "\n",
        "par='BTCUSDT'\n",
        "\n",
        "\n",
        "data['x']=precos[par].pct_change(n)\n",
        "data['y']=precos[par].pct_change(n).shift(-1)\n",
        "data['z']=precos[par].pct_change(n).shift(-2)\n",
        "data['w']=precos[par].pct_change(n).shift(-3)\n",
        "data['q']=precos[par].pct_change(n).shift(-4)\n",
        "data=data.dropna()\n",
        "\n",
        "data.corr().x"
      ],
      "execution_count": null,
      "outputs": []
    },
    {
      "cell_type": "code",
      "metadata": {
        "id": "WgjrOCBSJftT"
      },
      "source": [
        "precos.pct_change()"
      ],
      "execution_count": null,
      "outputs": []
    }
  ]
}