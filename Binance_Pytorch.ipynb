{
  "nbformat": 4,
  "nbformat_minor": 0,
  "metadata": {
    "colab": {
      "name": "Binance-BT.ipynb",
      "provenance": [],
      "private_outputs": true
    },
    "kernelspec": {
      "name": "python3",
      "display_name": "Python 3"
    }
  },
  "cells": [
    {
      "cell_type": "markdown",
      "metadata": {
        "id": "QS0E5Wq5hRAZ"
      },
      "source": [
        "# Importação das biblietocas"
      ]
    },
    {
      "cell_type": "code",
      "metadata": {
        "id": "FADzrXdTfFYq"
      },
      "source": [
        "\n",
        "!pip install python-binance\n",
        "\n",
        "\n",
        "from binance.client import Client as B\n",
        "import pandas as pd\n",
        "import numpy as np\n",
        "\n",
        "from sklearn.preprocessing import MinMaxScaler\n"
      ],
      "execution_count": null,
      "outputs": []
    },
    {
      "cell_type": "code",
      "source": [
        "df=pd.DataFrame( B().get_historical_klines('BTCUSDT', '4h','2022-01-01'))[[0,4,7]].astype({0: int, 4: float, 7:float}).rename(columns={0:'time',4:'close', 7:'volume'}).set_index('time')\n",
        "df"
      ],
      "metadata": {
        "id": "X4K_d9FBCCAK"
      },
      "execution_count": null,
      "outputs": []
    },
    {
      "cell_type": "code",
      "source": [
        "df1=pd.DataFrame()\n",
        "pct=df.close.pct_change()\n",
        "\n",
        "\n",
        "for i in range(5,0,-1):\n",
        "  df1['x'+str(i)]=pct.shift(i)\n",
        "\n",
        "df1['y']=pct\n",
        "\n",
        "\n",
        "df1\n",
        "\n",
        "\n"
      ],
      "metadata": {
        "id": "oqxOoUbrGLyb"
      },
      "execution_count": null,
      "outputs": []
    },
    {
      "cell_type": "code",
      "source": [
        "df.close.pct_change().shift(-1)"
      ],
      "metadata": {
        "id": "M3oCqa1IKerC"
      },
      "execution_count": null,
      "outputs": []
    }
  ]
}